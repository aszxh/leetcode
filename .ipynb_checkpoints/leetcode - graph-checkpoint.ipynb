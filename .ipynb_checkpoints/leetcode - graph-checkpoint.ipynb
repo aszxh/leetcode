{
 "cells": [
  {
   "cell_type": "markdown",
   "metadata": {},
   "source": [
    "111. Minimum Depth of Binary Tree\n",
    "\n",
    "Given a binary tree, find its minimum depth.\n",
    "\n",
    "The minimum depth is the number of nodes along the shortest path from the root node down to the nearest leaf node.\n",
    "\n",
    "Note: A leaf is a node with no children.\n",
    "\n",
    "Ex‘ample:\n",
    "\n",
    "Given binary tree [3,9,20,null,null,15,7],\n",
    "    3\n",
    "   / \\\n",
    "  9  20\n",
    "    /  \\\n",
    "   15   7\n",
    "return its minimum depth = 2."
   ]
  },
  {
   "cell_type": "code",
   "execution_count": null,
   "metadata": {
    "collapsed": true
   },
   "outputs": [],
   "source": [
    "# Definition for a binary tree node.\n",
    "# class TreeNode(object):\n",
    "#     def __init__(self, x):\n",
    "#         self.val = x\n",
    "#         self.left = None\n",
    "#         self.right = None\n",
    "\n",
    "# BFS\n",
    "class Solution(object):\n",
    "    def minDepth(self, root):\n",
    "        \"\"\"\n",
    "        :type root: TreeNode\n",
    "        :rtype: int\n",
    "        \"\"\"\n",
    "        if not root:\n",
    "            return 0\n",
    "        depth = 1\n",
    "        q =  [root]\n",
    "        while q:\n",
    "            sz = len(q) # Size of queue, i.e. number of nodes in this level\n",
    "            for i in range(sz): # Iterate through current level\n",
    "                cur = q.pop(0)\n",
    "                if not cur.left and not cur.right:\n",
    "                    return depth\n",
    "                if cur.left:\n",
    "                    q.append(cur.left)\n",
    "                if cur.right:\n",
    "                    q.append(cur.right)\n",
    "            depth += 1 # Go to next level and increase depth by 1\n",
    "        return -1\n",
    "    \n",
    "# Recursive solution  \n",
    "class Solution(object):\n",
    "    def minDepth(self, root):\n",
    "        \"\"\"\n",
    "        :type root: TreeNode\n",
    "        :rtype: int\n",
    "        \"\"\"\n",
    "        if not root:\n",
    "            return 0\n",
    "        leftDepth, rightDepth = float('Inf'), float('Inf') #why not 0?\n",
    "        if not root.left and not root.right:\n",
    "            return 1\n",
    "        if root.left:\n",
    "            leftDepth = self.minDepth(root.left)\n",
    "        if root.right:\n",
    "            rightDepth = self.minDepth(root.right)\n",
    "        return min(leftDepth, rightDepth) + 1"
   ]
  },
  {
   "cell_type": "markdown",
   "metadata": {},
   "source": [
    "200. Number of Islands\n",
    "\n",
    "Given a 2d grid map of '1's (land) and '0's (water), count the number of islands. An island is surrounded by water and is formed by connecting adjacent lands horizontally or vertically. You may assume all four edges of the grid are all surrounded by water.\n",
    "\n",
    "Example 1:\n",
    "\n",
    "Input:\n",
    "11110\n",
    "11010\n",
    "11000\n",
    "00000\n",
    "\n",
    "Output: 1\n",
    "Example 2:\n",
    "\n",
    "Input:\n",
    "11000\n",
    "11000\n",
    "00100\n",
    "00011\n",
    "\n",
    "Output: 3"
   ]
  },
  {
   "cell_type": "code",
   "execution_count": null,
   "metadata": {
    "collapsed": true
   },
   "outputs": [],
   "source": [
    "class Solution(object):\n",
    "    def numIslands(self, grid):\n",
    "        \"\"\"\n",
    "        :type grid: List[List[str]]\n",
    "        :rtype: int\n",
    "        \"\"\"\n",
    "        ans = 0\n",
    "        for i in range(len(grid)):\n",
    "            for j in range(len(grid[0])):\n",
    "                if grid[i][j] == '1':\n",
    "                    self.dfs(grid, i, j)\n",
    "                    ans += 1\n",
    "        return ans\n",
    "                    \n",
    "    def dfs(self, grid, i, j) :\n",
    "        if i >= 0 and i < len(grid) and j >= 0 and j < len(grid[0]) and grid[i][j] == '1': # Check if index is valid!!\n",
    "            grid[i][j] = '*'\n",
    "            self.dfs(grid, i, j+1) # Go 4 directions!\n",
    "            self.dfs(grid, i+1, j)\n",
    "            self.dfs(grid, i, j-1)\n",
    "            self.dfs(grid, i-1, j)"
   ]
  },
  {
   "cell_type": "code",
   "execution_count": null,
   "metadata": {
    "collapsed": true
   },
   "outputs": [],
   "source": [
    "207. Course Schedule\n",
    "\n",
    "There are a total of n courses you have to take, labeled from 0 to n-1.\n",
    "\n",
    "Some courses may have prerequisites, for example to take course 0 you have to first take course 1, which is expressed as a pair: [0,1]\n",
    "\n",
    "Given the total number of courses and a list of prerequisite pairs, is it possible for you to finish all courses?\n",
    "\n",
    "Example 1:\n",
    "\n",
    "Input: 2, [[1,0]] \n",
    "Output: true\n",
    "Explanation: There are a total of 2 courses to take. \n",
    "             To take course 1 you should have finished course 0. So it is possible.\n",
    "Example 2:\n",
    "\n",
    "Input: 2, [[1,0],[0,1]]\n",
    "Output: false\n",
    "Explanation: There are a total of 2 courses to take. \n",
    "             To take course 1 you should have finished course 0, and to take course 0 you should\n",
    "             also have finished course 1. So it is impossible.\n",
    "Note:\n",
    "\n",
    "The input prerequisites is a graph represented by a list of edges, not adjacency matrices. Read more about how a graph is represented.\n",
    "You may assume that there are no duplicate edges in the input prerequisites."
   ]
  },
  {
   "cell_type": "code",
   "execution_count": null,
   "metadata": {
    "collapsed": true
   },
   "outputs": [],
   "source": [
    "from collections import defaultdict \n",
    "class Solution(object):\n",
    "    def canFinish(self, numCourses, prerequisites):\n",
    "        \"\"\"\n",
    "        :type numCourses: int\n",
    "        :type prerequisites: List[List[int]]\n",
    "        :rtype: bool\n",
    "        \"\"\"\n",
    "        graph = defaultdict(list)\n",
    "        for prerequisite in prerequisites:\n",
    "            if prerequisite[0] not in graph.keys():\n",
    "                graph[prerequisite[0]] = []    # Ensure every node exists in the graph. E.g 0 -> 1, we also need to store 1\n",
    "            graph[prerequisite[1]].append(prerequisite[0])  #Add edge\n",
    "        visited = {node: False for node in graph.keys()}  # Visited nodes in all recursions\n",
    "        path = {node: False for node in graph.keys()}  # Visited nodes in current recursion(path)\n",
    "        for i in graph.keys():\n",
    "            if visited[i] == False:\n",
    "                if  self.dfs(i, graph, visited, path):\n",
    "                    return False\n",
    "        return True\n",
    "                \n",
    "    def dfs(self, u, graph, visited, path):\n",
    "        visited[u] = True\n",
    "        path[u] = True\n",
    "        for v in graph[u]:\n",
    "            if path[v]: # If we meet same nodes in current path, that means we encounter a cycle, stop and return true\n",
    "                return True\n",
    "            if not visited[v] and self.dfs(v, graph, visited, path): # Only do recursion when neighbour was not visited before\n",
    "                                                                    # If there is cycle in recursion, stop and return true\n",
    "                return True\n",
    "        path[u] = False  # Remove current node from path\n",
    "        return False\n",
    "                "
   ]
  },
  {
   "cell_type": "code",
   "execution_count": null,
   "metadata": {
    "collapsed": true
   },
   "outputs": [],
   "source": [
    "279. Perfect Squares\n",
    "Given a positive integer n, find the least number of perfect square numbers (for example, 1, 4, 9, 16, ...) which sum to n.\n",
    "\n",
    "Example 1:\n",
    "\n",
    "Input: n = 12\n",
    "Output: 3 \n",
    "Explanation: 12 = 4 + 4 + 4.\n",
    "Example 2:\n",
    "\n",
    "Input: n = 13\n",
    "Output: 2\n",
    "Explanation: 13 = 4 + 9."
   ]
  },
  {
   "cell_type": "code",
   "execution_count": null,
   "metadata": {
    "collapsed": true
   },
   "outputs": [],
   "source": [
    "210. Course Schedule II\n",
    "\n",
    "There are a total of n courses you have to take, labeled from 0 to n-1.\n",
    "\n",
    "Some courses may have prerequisites, for example to take course 0 you have to first take course 1, which is expressed as a pair: [0,1]\n",
    "\n",
    "Given the total number of courses and a list of prerequisite pairs, return the ordering of courses you should take to finish all courses.\n",
    "\n",
    "There may be multiple correct orders, you just need to return one of them. If it is impossible to finish all courses, return an empty array.\n",
    "\n",
    "Example 1:\n",
    "\n",
    "Input: 2, [[1,0]] \n",
    "Output: [0,1]\n",
    "Explanation: There are a total of 2 courses to take. To take course 1 you should have finished   \n",
    "             course 0. So the correct course order is [0,1] .\n",
    "Example 2:\n",
    "\n",
    "Input: 4, [[1,0],[2,0],[3,1],[3,2]]\n",
    "Output: [0,1,2,3] or [0,2,1,3]\n",
    "Explanation: There are a total of 4 courses to take. To take course 3 you should have finished both     \n",
    "             courses 1 and 2. Both courses 1 and 2 should be taken after you finished course 0. \n",
    "             So one correct course order is [0,1,2,3]. Another correct ordering is [0,2,1,3] ."
   ]
  },
  {
   "cell_type": "code",
   "execution_count": 3,
   "metadata": {
    "collapsed": false
   },
   "outputs": [
    {
     "name": "stdout",
     "output_type": "stream",
     "text": [
      "hi\n",
      "hello\n"
     ]
    }
   ],
   "source": [
    "from collections import defaultdict\n",
    "class Solution(object):\n",
    "    def findOrder(self, numCourse, prerequisites):\n",
    "        \"\"\"\n",
    "        :type numCourses: int\n",
    "        :type prerequisites: List[List[int]]\n",
    "        :rtype: List[int]\n",
    "        \"\"\"\n",
    "        graph = {i: [] for i in range(numCourse)} # Initialize each node with an empty list to prevent corner case that there are # no edges\n",
    "        # graph = [[] for _ in range(numCouse)]\n",
    "        for prerequisite in prerequisites:\n",
    "            graph[prerequisite[1]].append(prerequisite[0])\n",
    "        stack = []\n",
    "        visited = [False] * numCourse # In this problem, nodes' index are consecutive integer. So we can use a list to store it\n",
    "        path = [False] * numCourse \n",
    "        for i in graph.keys():\n",
    "            if visited[i] == False:\n",
    "                 if self.orderHelper(graph, stack, i, visited, path):\n",
    "                        return []\n",
    "        return stack\n",
    "    def orderHelper(self, graph, stack, u, visited, path):\n",
    "        visited[u] = True\n",
    "        path[u] = True\n",
    "        for v in graph[u]:\n",
    "            if path[v]:\n",
    "                return True\n",
    "            if visited[v] == False:\n",
    "                if self.orderHelper(graph, stack, v, visited, path):\n",
    "                    return True\n",
    "        path[u] = False\n",
    "        stack.insert(0, u)\n",
    "        return False"
   ]
  },
  {
   "cell_type": "code",
   "execution_count": null,
   "metadata": {
    "collapsed": true
   },
   "outputs": [],
   "source": []
  }
 ],
 "metadata": {
  "kernelspec": {
   "display_name": "Python 2",
   "language": "python",
   "name": "python2"
  },
  "language_info": {
   "codemirror_mode": {
    "name": "ipython",
    "version": 2
   },
   "file_extension": ".py",
   "mimetype": "text/x-python",
   "name": "python",
   "nbconvert_exporter": "python",
   "pygments_lexer": "ipython2",
   "version": "2.7.13"
  }
 },
 "nbformat": 4,
 "nbformat_minor": 2
}
