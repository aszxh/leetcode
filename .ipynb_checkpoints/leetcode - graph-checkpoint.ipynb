{
 "cells": [
  {
   "cell_type": "markdown",
   "metadata": {},
   "source": [
    "111. Minimum Depth of Binary Tree\n",
    "\n",
    "Given a binary tree, find its minimum depth.\n",
    "\n",
    "The minimum depth is the number of nodes along the shortest path from the root node down to the nearest leaf node.\n",
    "\n",
    "Note: A leaf is a node with no children.\n",
    "\n",
    "Ex‘ample:\n",
    "\n",
    "Given binary tree [3,9,20,null,null,15,7],\n",
    "    3\n",
    "   / \\\n",
    "  9  20\n",
    "    /  \\\n",
    "   15   7\n",
    "return its minimum depth = 2."
   ]
  },
  {
   "cell_type": "code",
   "execution_count": null,
   "metadata": {
    "collapsed": true
   },
   "outputs": [],
   "source": [
    "# Definition for a binary tree node.\n",
    "# class TreeNode(object):\n",
    "#     def __init__(self, x):\n",
    "#         self.val = x\n",
    "#         self.left = None\n",
    "#         self.right = None\n",
    "\n",
    "# BFS\n",
    "class Solution(object):\n",
    "    def minDepth(self, root):\n",
    "        \"\"\"\n",
    "        :type root: TreeNode\n",
    "        :rtype: int\n",
    "        \"\"\"\n",
    "        if not root:\n",
    "            return 0\n",
    "        depth = 1\n",
    "        q =  [root]\n",
    "        while q:\n",
    "            sz = len(q) # Size of queue, i.e. number of nodes in this level\n",
    "            for i in range(sz): # Iterate through current level\n",
    "                cur = q.pop(0)\n",
    "                if not cur.left and not cur.right:\n",
    "                    return depth\n",
    "                if cur.left:\n",
    "                    q.append(cur.left)\n",
    "                if cur.right:\n",
    "                    q.append(cur.right)\n",
    "            depth += 1 # Go to next level and increase depth by 1\n",
    "        return -1\n",
    "    \n",
    "# Recursive solution  \n",
    "class Solution(object):\n",
    "    def minDepth(self, root):\n",
    "        \"\"\"\n",
    "        :type root: TreeNode\n",
    "        :rtype: int\n",
    "        \"\"\"\n",
    "        if not root:\n",
    "            return 0\n",
    "        leftDepth, rightDepth = float('Inf'), float('Inf') #why not 0?\n",
    "        if not root.left and not root.right:\n",
    "            return 1\n",
    "        if root.left:\n",
    "            leftDepth = self.minDepth(root.left)\n",
    "        if root.right:\n",
    "            rightDepth = self.minDepth(root.right)\n",
    "        return min(leftDepth, rightDepth) + 1"
   ]
  },
  {
   "cell_type": "markdown",
   "metadata": {},
   "source": [
    "200. Number of Islands\n",
    "\n",
    "Given a 2d grid map of '1's (land) and '0's (water), count the number of islands. An island is surrounded by water and is formed by connecting adjacent lands horizontally or vertically. You may assume all four edges of the grid are all surrounded by water.\n",
    "\n",
    "Example 1:\n",
    "\n",
    "Input:\n",
    "11110\n",
    "11010\n",
    "11000\n",
    "00000\n",
    "\n",
    "Output: 1\n",
    "Example 2:\n",
    "\n",
    "Input:\n",
    "11000\n",
    "11000\n",
    "00100\n",
    "00011\n",
    "\n",
    "Output: 3"
   ]
  },
  {
   "cell_type": "code",
   "execution_count": null,
   "metadata": {
    "collapsed": true
   },
   "outputs": [],
   "source": [
    "class Solution(object):\n",
    "    def numIslands(self, grid):\n",
    "        \"\"\"\n",
    "        :type grid: List[List[str]]\n",
    "        :rtype: int\n",
    "        \"\"\"\n",
    "        ans = 0\n",
    "        for i in range(len(grid)):\n",
    "            for j in range(len(grid[0])):\n",
    "                if grid[i][j] == '1':\n",
    "                    self.dfs(grid, i, j)\n",
    "                    ans += 1\n",
    "        return ans\n",
    "                    \n",
    "    def dfs(self, grid, i, j) :\n",
    "        if i >= 0 and i < len(grid) and j >= 0 and j < len(grid[0]) and grid[i][j] == '1': # Check if index is valid!!\n",
    "            grid[i][j] = '*'\n",
    "            self.dfs(grid, i, j+1) # Go 4 directions!\n",
    "            self.dfs(grid, i+1, j)\n",
    "            self.dfs(grid, i, j-1)\n",
    "            self.dfs(grid, i-1, j)"
   ]
  }
 ],
 "metadata": {
  "kernelspec": {
   "display_name": "Python 2",
   "language": "python",
   "name": "python2"
  },
  "language_info": {
   "codemirror_mode": {
    "name": "ipython",
    "version": 2
   },
   "file_extension": ".py",
   "mimetype": "text/x-python",
   "name": "python",
   "nbconvert_exporter": "python",
   "pygments_lexer": "ipython2",
   "version": "2.7.13"
  }
 },
 "nbformat": 4,
 "nbformat_minor": 2
}
