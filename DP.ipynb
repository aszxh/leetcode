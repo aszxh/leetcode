{
 "cells": [
  {
   "cell_type": "code",
   "execution_count": null,
   "metadata": {
    "collapsed": true
   },
   "outputs": [],
   "source": [
    "[1,2,3,4,5,6,7,8,9]\n",
    "\n",
    "ans(i) sum over first i items\n",
    "\n",
    "ans(i) = ans(i-1) + nums(i-1)\n",
    "\n"
   ]
  },
  {
   "cell_type": "code",
   "execution_count": null,
   "metadata": {
    "collapsed": true
   },
   "outputs": [],
   "source": [
    "nums = [1,2,3,4,5,6,7,8,9]\n",
    "ans = [nums[0]]\n",
    "for i in range(1, len(nums)):\n",
    "    ans.append(ans[i-1] + nums[i])"
   ]
  },
  {
   "cell_type": "code",
   "execution_count": null,
   "metadata": {
    "collapsed": true
   },
   "outputs": [],
   "source": [
    "def fab(i, nums):\n",
    "    if i == 0:\n",
    "        return nums[0]\n",
    "    return fab(i-1) + nums[i]\n",
    "ans = []\n",
    "for i in range(len(nums)):\n",
    "    ans[i] = fab(i, nums)"
   ]
  },
  {
   "cell_type": "code",
   "execution_count": null,
   "metadata": {
    "collapsed": true
   },
   "outputs": [],
   "source": [
    "from copy import deepcopy\n",
    "nums = [5, 2, 8, 6, 3, 6, 9, 7]\n",
    "ans = []\n",
    "f = [[nums[0]]]\n",
    "\n",
    "for i in range(1, len(nums)):\n",
    "    if nums[i] > nums[i-1]:\n",
    "        cur = deepcopy(f[-1])\n",
    "        cur.append(nums[i])\n",
    "        f.append(cur)\n",
    "    else:\n",
    "        maxLen = -1\n",
    "        maxLIS = []\n",
    "        for j in range(i):\n",
    "            if nums[j] < nums[i]:\n",
    "                if len(f[j]) > maxLen:\n",
    "                    maxLen = len(f[j])\n",
    "                    maxLIS = f[j]\n",
    "        cur = deepcopy(maxLIS)\n",
    "        cur.append(nums[i])\n",
    "        f.append(cur)\n",
    "    if len(f[-1]) > len(ans):\n",
    "        ans = f[-1]\n",
    "\n",
    "print(len(ans))"
   ]
  },
  {
   "cell_type": "code",
   "execution_count": null,
   "metadata": {
    "collapsed": true
   },
   "outputs": [],
   "source": [
    "\n",
    "f[i]: LIS ending at I item\n",
    "\n",
    "f[0] = [5] 1\n",
    "f[i+1] = if nums[i+1] > nums[i]: f[i] + 1\n",
    "\telse: for j in  [f[0] … f[i] ] : nums[j] < nums[i+1] \n",
    "\n",
    "\n"
   ]
  }
 ],
 "metadata": {
  "kernelspec": {
   "display_name": "Python 2",
   "language": "python",
   "name": "python2"
  },
  "language_info": {
   "codemirror_mode": {
    "name": "ipython",
    "version": 2
   },
   "file_extension": ".py",
   "mimetype": "text/x-python",
   "name": "python",
   "nbconvert_exporter": "python",
   "pygments_lexer": "ipython2",
   "version": "2.7.13"
  }
 },
 "nbformat": 4,
 "nbformat_minor": 2
}
