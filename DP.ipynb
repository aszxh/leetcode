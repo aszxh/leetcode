{
 "cells": [
  {
   "cell_type": "code",
   "execution_count": null,
   "metadata": {
    "collapsed": true
   },
   "outputs": [],
   "source": [
    "[1,2,3,4,5,6,7,8,9]\n",
    "\n",
    "ans(i) sum over first i items\n",
    "\n",
    "ans(i) = ans(i-1) + nums(i-1)\n",
    "\n"
   ]
  },
  {
   "cell_type": "code",
   "execution_count": null,
   "metadata": {
    "collapsed": true
   },
   "outputs": [],
   "source": [
    "nums = [1,2,3,4,5,6,7,8,9]\n",
    "ans = [nums[0]]\n",
    "for i in range(1, len(nums)):\n",
    "    ans.append(ans[i-1] + nums[i])"
   ]
  },
  {
   "cell_type": "code",
   "execution_count": null,
   "metadata": {
    "collapsed": true
   },
   "outputs": [],
   "source": [
    "def fab(i, nums):\n",
    "    if i == 0:\n",
    "        return nums[0]\n",
    "    return fab(i-1) + nums[i]\n",
    "ans = []\n",
    "for i in range(len(nums)):\n",
    "    ans[i] = fab(i, nums)"
   ]
  },
  {
   "cell_type": "code",
   "execution_count": null,
   "metadata": {
    "collapsed": true
   },
   "outputs": [],
   "source": [
    "from copy import deepcopy\n",
    "nums = [5, 2, 8, 6, 3, 6, 9, 7]\n",
    "ans = []\n",
    "f = [[nums[0]]]\n",
    "\n",
    "for i in range(1, len(nums)):\n",
    "    if nums[i] > nums[i-1]:\n",
    "        cur = deepcopy(f[-1])\n",
    "        cur.append(nums[i])\n",
    "        f.append(cur)\n",
    "    else:\n",
    "        maxLen = -1\n",
    "        maxLIS = []\n",
    "        for j in range(i):\n",
    "            if nums[j] < nums[i]:\n",
    "                if len(f[j]) > maxLen:\n",
    "                    maxLen = len(f[j])\n",
    "                    maxLIS = f[j]\n",
    "        cur = deepcopy(maxLIS)\n",
    "        cur.append(nums[i])\n",
    "        f.append(cur)\n",
    "    if len(f[-1]) > len(ans):\n",
    "        ans = f[-1]\n",
    "\n",
    "print(len(ans))"
   ]
  },
  {
   "cell_type": "code",
   "execution_count": null,
   "metadata": {
    "collapsed": true
   },
   "outputs": [],
   "source": [
    "\n",
    "f[i]: LIS ending at I item\n",
    "\n",
    "f[0] = [5] 1\n",
    "f[i+1] = if nums[i+1] > nums[i]: f[i] + 1\n",
    "\telse: for j in  [f[0] … f[i] ] : nums[j] < nums[i+1] \n",
    "\n",
    "\n"
   ]
  },
  {
   "cell_type": "code",
   "execution_count": null,
   "metadata": {
    "collapsed": true
   },
   "outputs": [],
   "source": []
  },
  {
   "cell_type": "code",
   "execution_count": null,
   "metadata": {
    "collapsed": true
   },
   "outputs": [],
   "source": [
    "s = 'THESEARETHERULES'\n",
    "f = [False] * (len(s) + 1)\n",
    "f[0] = True\n",
    "pre = [0] * len(s)\n",
    "for i in range(1, len(s)):\n",
    "    for j in range(i):\n",
    "        sub = s[j:i]\n",
    "        if f[j] == True and isValid(sub):\n",
    "            f[i] = True\n",
    "            pre[i-1] = j\n",
    "            break\n",
    "i = len(s) - 1\n",
    "while i >= 0:\n",
    "    print(s[pre[i]: i+1])\n",
    "    i = pre[i] - 1"
   ]
  },
  {
   "cell_type": "code",
   "execution_count": null,
   "metadata": {
    "collapsed": true
   },
   "outputs": [],
   "source": [
    "f[i][j] = function(f[1..i-1][1..j-1])\n",
    "\n",
    "x[i] == y[j]    ==> f[i][j] = f[i-1][j-1]\n",
    "x[i] != y[j]    ==> f[i][j] = min(f[i-1][j], f[i][j-1], f[i-1][j-1]) + 1"
   ]
  },
  {
   "cell_type": "code",
   "execution_count": 8,
   "metadata": {
    "collapsed": false
   },
   "outputs": [
    {
     "name": "stdout",
     "output_type": "stream",
     "text": [
      "4.0\n"
     ]
    }
   ],
   "source": [
    "import numpy as np\n",
    "x = \"PELICAN\"\n",
    "y = \"PENGUIN\"\n",
    "n = len(x)\n",
    "m = len(y)\n",
    "f = np.zeros((n+1, m+1))\n",
    "for i in range(n+1):\n",
    "    f[i][0] = i\n",
    "for i in range(m+1):\n",
    "    f[0][i] = i\n",
    "    \n",
    "for i in range(1, n+1):\n",
    "    for j in range(1, m+1):\n",
    "        if x[i-1] == y[j-1]: # Careful! index should be one less!\n",
    "            f[i][j] = f[i-1][j-1]\n",
    "        else:\n",
    "            f[i][j] = min(f[i-1][j], f[i][j-1], f[i-1][j-1]) + 1\n",
    "print(f[n][m]) # Careful! index should be one less! f[-1][-1]"
   ]
  },
  {
   "cell_type": "code",
   "execution_count": 21,
   "metadata": {
    "collapsed": false
   },
   "outputs": [
    {
     "data": {
      "text/plain": [
       "0.0"
      ]
     },
     "execution_count": 21,
     "metadata": {},
     "output_type": "execute_result"
    }
   ],
   "source": [
    "a = [1,2,3,4,5]\n",
    "# 笨笨的写法\n",
    "c = []\n",
    "for i in a:\n",
    "    c.append(i*2)\n",
    "# 机智的\n",
    "b = [i * 2 for i in range(5)]\n",
    "b"
   ]
  },
  {
   "cell_type": "code",
   "execution_count": null,
   "metadata": {
    "collapsed": true
   },
   "outputs": [],
   "source": [
    "grid = [[1 for _ in range(n)] for _ in range(m)]\n",
    "for i in range(1,m):\n",
    "    for j in range(1,n):\n",
    "        grid[i][j] = grid[i-1][j] + grid[i][j-1]\n",
    "return grid[-1][-1]"
   ]
  },
  {
   "cell_type": "code",
   "execution_count": 26,
   "metadata": {
    "collapsed": false
   },
   "outputs": [
    {
     "data": {
      "text/plain": [
       "array([[ 0.,  0.,  0.,  0.,  0.,  0.],\n",
       "       [ 0.,  0.,  0.,  0.,  0.,  0.],\n",
       "       [ 0.,  0.,  0.,  0.,  0.,  0.],\n",
       "       [ 0.,  0.,  0.,  0.,  0.,  0.],\n",
       "       [ 0.,  0.,  0.,  0.,  0.,  0.]])"
      ]
     },
     "execution_count": 26,
     "metadata": {},
     "output_type": "execute_result"
    }
   ],
   "source": [
    "f = [1 for _ in range(n)]\n",
    "for i in range(1,m):\n",
    "    for j in range(1,n):\n",
    "        f[j] = f[j-1] + f[j]\n",
    "return f[-1]"
   ]
  },
  {
   "cell_type": "code",
   "execution_count": null,
   "metadata": {
    "collapsed": true
   },
   "outputs": [],
   "source": [
    "m, n = len(obstacleGrid), len(obstacleGrid[0])\n",
    "dp = [[0 for _ in range(n)] for _ in range(m)]\n",
    "for i in range(n):\n",
    "    if obstacleGrid[0][i] == 1:\n",
    "        break\n",
    "    else:\n",
    "        dp[0][i] = 1\n",
    "for i in range(m):\n",
    "    if obstacleGrid[i][0] == 1:\n",
    "        break\n",
    "    else:\n",
    "        dp[i][0] = 1\n",
    "for i in range(1,m):\n",
    "    for j in range(1,n):\n",
    "        if obstacleGrid[i][j] == 1:\n",
    "            dp[i][j] = 0\n",
    "        else:\n",
    "            dp[i][j] = dp[i-1][j] + dp[i][j-1]\n",
    "return dp[-1][-1]"
   ]
  }
 ],
 "metadata": {
  "kernelspec": {
   "display_name": "Python 2",
   "language": "python",
   "name": "python2"
  },
  "language_info": {
   "codemirror_mode": {
    "name": "ipython",
    "version": 2
   },
   "file_extension": ".py",
   "mimetype": "text/x-python",
   "name": "python",
   "nbconvert_exporter": "python",
   "pygments_lexer": "ipython2",
   "version": "2.7.13"
  }
 },
 "nbformat": 4,
 "nbformat_minor": 2
}
