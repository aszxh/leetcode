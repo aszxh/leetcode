{
 "cells": [
  {
   "cell_type": "code",
   "execution_count": 31,
   "metadata": {
    "collapsed": false
   },
   "outputs": [],
   "source": [
    "# DFS\n",
    "from collections import defaultdict\n",
    "class Graph:\n",
    "    def __init__(self):\n",
    "        self.graph = defaultdict(list)\n",
    "    def addEdge(self, u, v):\n",
    "        if v not in self.graph.keys():\n",
    "            self.graph[v] = []\n",
    "        self.graph[u].append(v)\n",
    "#         self.graph[v].append(u)\n",
    "    def dfs(self):\n",
    "        self.visited = {node: False for node in self.graph.keys()}\n",
    "        # !!!!!!!!!!!!!!!!!!!!!!!!!!!!!\n",
    "        for u in self.graph.keys():\n",
    "            if(self.visited[u] == False):\n",
    "                self.dfsHelper(u)\n",
    "        # !!!!!!!!!!!!!!!!!!!!!!!!!!!!!!!\n",
    "    def dfsHelper(self, u):\n",
    "        self.visited[u] = True\n",
    "        print(u)\n",
    "        for v in self.graph[u]:\n",
    "            if(self.visited[v] == False):\n",
    "                self.dfsHelper(v)\n",
    "    def hasPath(self, s, t):\n",
    "        self.visited = {node: False for node in self.graph.keys()}\n",
    "        return self.pathHelper(s, t)\n",
    "    def pathHelper(self, u, t):\n",
    "        self.visited[u] = True\n",
    "        if(u == t):\n",
    "            return True\n",
    "        for v in self.graph[u]:\n",
    "            if(self.visited[v] == False):\n",
    "                if(self.pathHelper(v, t)):\n",
    "                    return True\n",
    "        return False\n",
    "    def pathTo(self, s, t):\n",
    "        self.visited = {node: False for node in self.graph.keys()}\n",
    "        path = []\n",
    "        self.pathToHelper(s, t, path)\n",
    "        return path\n",
    "    def pathToHelper(self, u, t, path):\n",
    "        self.visited[u] = True\n",
    "        path.append(u)\n",
    "        if(u == t):\n",
    "            path.append(u)\n",
    "            return True\n",
    "        for v in self.graph[u]:\n",
    "            if(self.visited[v] == False):\n",
    "                if(self.pathToHelper(v, t, path)):\n",
    "                    return True\n",
    "        path.pop()\n",
    "        return False\n",
    "    def bfs(self, u):\n",
    "        q = [u]\n",
    "        visited = {node: False for node in self.graph.keys()}\n",
    "        while q:\n",
    "            cur = q.pop(0)\n",
    "            visited[cur] = True\n",
    "            print(cur)\n",
    "            for v in self.graph[cur]:\n",
    "                if(visited[v] == False):\n",
    "                    q.append(v)\n",
    "    def isShortestPath(self, s, t):\n",
    "        q = [s]\n",
    "        visited = {node: False for node in self.graph.keys()}\n",
    "        pre = {}\n",
    "        dist = {s: 0}\n",
    "        while q:\n",
    "            cur = q.pop(0)\n",
    "            visited[cur] = True\n",
    "            for v in self.graph[cur]:\n",
    "                if(visited[v] == False):\n",
    "                    q.append(v)\n",
    "                    pre[v] = cur\n",
    "                    dist[v] = dist[cur] + 1\n",
    "                    if(v == t):\n",
    "                        self.printShortestPath(s, t, pre)\n",
    "                        return True\n",
    "        return False\n",
    "    def printShortestPath(self, s, t, pre):\n",
    "        cur = t\n",
    "        path = []\n",
    "        while cur != s:\n",
    "            path.append(cur)\n",
    "            cur = pre[cur]\n",
    "        path.append(s)\n",
    "        print(list(reversed(path)))\n",
    "    def topological_sort(self):\n",
    "        self.visited = {node: False for node in self.graph.keys()}\n",
    "        stack = []\n",
    "        for u in self.graph.keys():\n",
    "            if(self.visited[u] == False):\n",
    "                self.dfsHelper(u, stack)\n",
    "        print(stack)\n",
    "    def topological_sort_helper(self, u, stack):\n",
    "        self.visited[u] = True\n",
    "        for v in self.graph[u]:\n",
    "            if(self.visited[v] == False):\n",
    "                self.dfsHelper(v, stack)\n",
    "        stack.insert(0, u)\n",
    "    def topological_sort_bfs(self):\n",
    "        indegree = {node: 0 for node in self.graph.keys()}\n",
    "        for i in self.graph.keys():\n",
    "            for j in self.graph[i]: # i --> j\n",
    "                indegree[j] += 1\n",
    "        q, res = [], []\n",
    "        for n, d in indegree.items():\n",
    "            if(d == 0):\n",
    "                q.append(n)\n",
    "        while q:\n",
    "            cur = q.pop(0)\n",
    "            res.append(cur)\n",
    "            for neigh in self.graph[cur]:\n",
    "                indegree[neigh] -= 1\n",
    "                if indegree[neigh] == 0:\n",
    "                    q.append(neigh)\n",
    "        print(res)\n",
    "    def is_circle_undirected(self):\n",
    "        self.visited = {node: False for node in self.graph.keys()}\n",
    "        for u in self.graph.keys():\n",
    "            if(self.visited[u] == False):\n",
    "                if self.is_circle_undirected_helper(u):\n",
    "                    return True\n",
    "        return False\n",
    "    def is_circle_undirected_helper(self, u):\n",
    "        self.visited[u] = True\n",
    "        for v in self.graph[u]:\n",
    "            if(self.visited[v]):\n",
    "                return True\n",
    "            if(self.visited[v] == False):\n",
    "                if self.is_circle_undirected_helper(v):\n",
    "                    return True\n",
    "        return False\n",
    "    def is_circle_directed(self):\n",
    "        self.visited = {node: False for node in self.graph.keys()}\n",
    "        rec_stack = {node: False for node in self.graph.keys()}\n",
    "        for u in self.graph.keys():\n",
    "            if(self.visited[u] == False):\n",
    "                if self.is_circle_directed_helper(u, rec_stack):\n",
    "                    return True\n",
    "        return False\n",
    "    def is_circle_directed_helper(self, u, rec_stack):\n",
    "        self.visited[u] = True\n",
    "        rec_stack[u] = True\n",
    "        for v in self.graph[u]:\n",
    "            if(rec_stack[v]):\n",
    "                return True\n",
    "            if(self.visited[v] == False):\n",
    "                if self.is_circle_directed_helper(v, rec_stack):\n",
    "                    return True\n",
    "        rec_stack[u] = False\n",
    "        return False"
   ]
  },
  {
   "cell_type": "code",
   "execution_count": 35,
   "metadata": {
    "collapsed": false
   },
   "outputs": [
    {
     "data": {
      "text/plain": [
       "True"
      ]
     },
     "execution_count": 35,
     "metadata": {},
     "output_type": "execute_result"
    }
   ],
   "source": [
    "g = Graph()\n",
    "g.addEdge(0, 1)\n",
    "g.addEdge(1, 2)\n",
    "# g.addEdge(1, 3)\n",
    "# g.addEdge(3, 4)\n",
    "# g.addEdge(0, 4)\n",
    "g.addEdge(2, 0)\n",
    "g.is_circle_directed()"
   ]
  },
  {
   "cell_type": "code",
   "execution_count": 113,
   "metadata": {
    "collapsed": false
   },
   "outputs": [],
   "source": [
    "# Heap\n",
    "from collections import defaultdict\n",
    "import math\n",
    "class Heap:\n",
    "    def __init__(self):\n",
    "        self.nums = []\n",
    "        self.size = 0\n",
    "        self.pos = {}\n",
    "    def addNode(self, n):\n",
    "        self.nums.append(n)\n",
    "        self.size += 1\n",
    "        self.pos[n] = self.size - 1\n",
    "        self.heapify(self.size - 1)\n",
    "    def parent(self, i):\n",
    "        return (i - 1) // 2\n",
    "    def heapify(self, i):\n",
    "        while i != 0:\n",
    "            if self.nums[self.parent(i)] > self.nums[i]:\n",
    "                self.pos[self.nums[i]] = self.parent(i)\n",
    "                self.pos[self.nums[self.parent(i)]] = i\n",
    "                temp = self.nums[i]\n",
    "                self.nums[i] = self.nums[self.parent(i)]\n",
    "                self.nums[self.parent(i)] = temp\n",
    "                i = self.parent(i)\n",
    "            else:\n",
    "                break\n",
    "    def bubbleDown(self, i):\n",
    "        left = 2 * i + 1\n",
    "        right = 2 * i + 2\n",
    "        smallest = i\n",
    "        if left < self.size and self.nums[left] < self.nums[smallest]:\n",
    "            smallest = left\n",
    "        if right < self.size and self.nums[right] < self.nums[smallest]:\n",
    "            smallest = right\n",
    "        if smallest != i:\n",
    "            self.pos[self.nums[i]] = smallest\n",
    "            self.pos[self.nums[smallest]] = i\n",
    "            temp = self.nums[i]\n",
    "            self.nums[i] = self.nums[smallest]\n",
    "            self.nums[smallest] = temp\n",
    "            self.bubbleDown(smallest)      \n",
    "    def popMin(self):\n",
    "#         nums: index -> value\n",
    "#         pos: value -> index\n",
    "        if self.isEmpty():\n",
    "            return\n",
    "        temp = self.nums[0]\n",
    "        self.nums[0] = self.nums[-1]\n",
    "        self.pos[self.nums[0]] = 0\n",
    "        self.nums.pop(self.size - 1)\n",
    "        del self.pos[temp]\n",
    "        self.size -= 1\n",
    "        self.bubbleDown(0)\n",
    "        return temp   \n",
    "        "
   ]
  },
  {
   "cell_type": "code",
   "execution_count": 114,
   "metadata": {
    "collapsed": false
   },
   "outputs": [],
   "source": [
    "h = Heap()\n",
    "h.addNode(4)\n",
    "h.addNode(2)\n",
    "h.addNode(3)\n",
    "h.addNode(1)\n"
   ]
  },
  {
   "cell_type": "code",
   "execution_count": 213,
   "metadata": {
    "collapsed": false
   },
   "outputs": [],
   "source": [
    "# DIJKSTRA’S shortest path ALGORITHM\n",
    "from collections import defaultdict\n",
    "class Heap2:\n",
    "    def __init__(self):\n",
    "        self.nums = []\n",
    "        self.size = 0\n",
    "        self.pos = {}\n",
    "    def addNode(self, n, dist):\n",
    "        self.nums.append([n, dist])\n",
    "        self.size += 1\n",
    "        self.pos[n] = self.size - 1\n",
    "        self.heapify(self.size - 1)\n",
    "    def parent(self, i):\n",
    "        return (i - 1) / 2\n",
    "    def heapify(self, i):\n",
    "        while i != 0:\n",
    "            if self.nums[self.parent(i)][1] > self.nums[i][1]:\n",
    "                self.pos[self.nums[i][0]] = self.parent(i)\n",
    "                self.pos[self.nums[self.parent(i)][0]] = i\n",
    "                temp = self.nums[i]\n",
    "                self.nums[i] = self.nums[self.parent(i)]\n",
    "                self.nums[self.parent(i)] = temp\n",
    "                i = self.parent(i)\n",
    "            else:\n",
    "                break\n",
    "    def bubbleDown(self, i):\n",
    "        left = 2 * i + 1\n",
    "        right = 2 * i + 2\n",
    "        smallest = i\n",
    "        if left < self.size and self.nums[left][1] < self.nums[smallest][1]:\n",
    "            smallest = left\n",
    "        if right < self.size and self.nums[right][1] < self.nums[smallest][1]:\n",
    "            smallest = right\n",
    "        if smallest != i:\n",
    "            self.pos[self.nums[i][0]] = smallest\n",
    "            self.pos[self.nums[smallest][0]] = i\n",
    "            temp = self.nums[i]\n",
    "            self.nums[i] = self.nums[smallest]\n",
    "            self.nums[smallest] = temp\n",
    "            self.bubbleDown(smallest)      \n",
    "    def popMin(self):\n",
    "#         nums: index -> value\n",
    "#         pos: value -> index\n",
    "        if self.isEmpty():\n",
    "            return\n",
    "        temp = self.nums[0]\n",
    "        self.nums[0] = self.nums[-1]\n",
    "        self.pos[self.nums[0][0]] = 0\n",
    "        self.nums.pop(self.size - 1)\n",
    "        del self.pos[temp[0]]\n",
    "        self.size -= 1\n",
    "        self.bubbleDown(0)\n",
    "        return temp   \n",
    "        \n",
    "    def decreaseKey(self, n, new_dist):\n",
    "        self.nums[self.pos[n]][1] = new_dist\n",
    "        self.heapify(self.pos[n])\n",
    "        \n",
    "    def isEmpty(self):\n",
    "        return self.size == 0"
   ]
  },
  {
   "cell_type": "code",
   "execution_count": 214,
   "metadata": {
    "collapsed": false
   },
   "outputs": [
    {
     "name": "stdout",
     "output_type": "stream",
     "text": [
      "{3: 1, 6: 0}\n",
      "[[3, 13]]\n"
     ]
    },
    {
     "data": {
      "text/plain": [
       "[3, 13]"
      ]
     },
     "execution_count": 214,
     "metadata": {},
     "output_type": "execute_result"
    }
   ],
   "source": [
    "h = Heap2()\n",
    "h.addNode(6, 10)\n",
    "h.addNode(3, 13)\n",
    "print h.pos\n",
    "h.popMin()\n",
    "print h.nums\n",
    "h.popMin()\n",
    "# h.popMin()"
   ]
  },
  {
   "cell_type": "code",
   "execution_count": 217,
   "metadata": {
    "collapsed": false
   },
   "outputs": [],
   "source": [
    "class WeightedGraph:\n",
    "    def __init__(self):\n",
    "        self.graph = defaultdict(list)\n",
    "    def addEdge(self, u, v, weight):\n",
    "        if v not in self.graph.keys():\n",
    "            self.graph[v] = []\n",
    "        self.graph[u].append([v, weight])\n",
    "    def Dijkestra(self, s, t):\n",
    "        self.dist = {n: float('Inf') for n in self.graph.keys()} #O(V) \n",
    "        self.pre = {n: None for n in self.graph.keys()} #O(V) \n",
    "        self.dist[s] = 0\n",
    "        \n",
    "        pq = Heap2() \n",
    "        for n in self.graph.keys():\n",
    "            pq.addNode(n, self.dist[n])  # O(log(V) * V)\n",
    "        \n",
    "        while not pq.isEmpty(): # V * log(V) + E * log(V)\n",
    "            cur = pq.popMin()[0]\n",
    "            for v in self.graph[cur]:\n",
    "                if self.dist[v[0]] > self.dist[cur] + v[1]:\n",
    "                    self.dist[v[0]] = self.dist[cur] + v[1]\n",
    "                    self.pre[v[0]] = cur\n",
    "                    pq.decreaseKey(v[0], self.dist[cur] + v[1])\n",
    "        print self.dist\n",
    "        cur = t\n",
    "        path = []\n",
    "        while cur != s:\n",
    "            path.append(cur)   \n",
    "            cur = self.pre[cur]\n",
    "        path.append(s)\n",
    "        print (list(reversed(path)))"
   ]
  },
  {
   "cell_type": "code",
   "execution_count": 219,
   "metadata": {
    "collapsed": false
   },
   "outputs": [
    {
     "name": "stdout",
     "output_type": "stream",
     "text": [
      "{0: 0, 1: 2, 2: 1, 3: 11, 4: 5, 5: 9, 6: 10}\n",
      "[0, 1, 4, 5]\n"
     ]
    }
   ],
   "source": [
    "wg = WeightedGraph()\n",
    "wg.addEdge(0, 1, 2)\n",
    "wg.addEdge(0, 2, 1)\n",
    "wg.addEdge(1, 2, 5)\n",
    "wg.addEdge(1, 4, 3)\n",
    "wg.addEdge(1, 3, 11)\n",
    "wg.addEdge(3, 4, 2)\n",
    "wg.addEdge(2, 5, 15)\n",
    "wg.addEdge(4, 2, 1)\n",
    "wg.addEdge(4, 5, 4)\n",
    "wg.addEdge(4, 6, 5)\n",
    "wg.addEdge(6, 5, 1)\n",
    "wg.addEdge(6, 3, 1)\n",
    "wg.Dijkestra(0, 5)"
   ]
  },
  {
   "cell_type": "code",
   "execution_count": 225,
   "metadata": {
    "collapsed": false
   },
   "outputs": [
    {
     "data": {
      "text/plain": [
       "[True, False, False, False, False]"
      ]
     },
     "execution_count": 225,
     "metadata": {},
     "output_type": "execute_result"
    }
   ],
   "source": [
    "1 1 1\n",
    "0 1 0\n",
    "1 1 0"
   ]
  }
 ],
 "metadata": {
  "kernelspec": {
   "display_name": "Python 2",
   "language": "python",
   "name": "python2"
  },
  "language_info": {
   "codemirror_mode": {
    "name": "ipython",
    "version": 2
   },
   "file_extension": ".py",
   "mimetype": "text/x-python",
   "name": "python",
   "nbconvert_exporter": "python",
   "pygments_lexer": "ipython2",
   "version": "2.7.13"
  }
 },
 "nbformat": 4,
 "nbformat_minor": 2
}
