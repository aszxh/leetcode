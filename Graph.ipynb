{
 "cells": [
  {
   "cell_type": "code",
   "execution_count": 12,
   "metadata": {
    "collapsed": false
   },
   "outputs": [],
   "source": [
    "# DFS\n",
    "from collections import defaultdict\n",
    "class Graph:\n",
    "    def __init__(self):\n",
    "        self.graph = defaultdict(list)\n",
    "    def addEdge(self, u, v):\n",
    "        self.graph[v] = []\n",
    "        self.graph[u].append(v)\n",
    "    def dfs(self, u):\n",
    "        self.visited = {node: False for node in self.graph.keys()}\n",
    "        self.dfsHelper(u)\n",
    "    def dfsHelper(self, u):\n",
    "        self.visited[u] = True\n",
    "        print(u)\n",
    "        for v in self.graph[u]:\n",
    "            if(self.visited[v] == False):\n",
    "                self.dfsHelper(v)\n",
    "    def hasPath(self, s, t):\n",
    "        self.visited = {node: False for node in self.graph.keys()}\n",
    "        return self.pathHelper(s, t)\n",
    "    def pathHelper(self, u, t):\n",
    "        self.visited[u] = True\n",
    "        if(u == t):\n",
    "            return True\n",
    "        for v in self.graph[u]:\n",
    "            if(self.visited[v] == False):\n",
    "                if(self.pathHelper(v, t)):\n",
    "                    return True\n",
    "        return False\n",
    "    def pathTo(self, s, t):\n",
    "        self.visited = {node: False for node in self.graph.keys()}\n",
    "        path = []\n",
    "        self.pathToHelper(s, t, path)\n",
    "        return path\n",
    "    def pathToHelper(self, u, t, path):\n",
    "        self.visited[u] = True\n",
    "        path.append(u)\n",
    "        if(u == t):\n",
    "            path.append(u)\n",
    "            return True\n",
    "        for v in self.graph[u]:\n",
    "            if(self.visited[v] == False):\n",
    "                if(self.pathToHelper(v, t, path)):\n",
    "                    return True\n",
    "        path.pop()\n",
    "        return False\n",
    "    def bfs(self, u):\n",
    "        q = [u]\n",
    "        visited = {node: False for node in self.graph.keys()}\n",
    "        while q:\n",
    "            cur = q.pop(0)\n",
    "            visited[cur] = True\n",
    "            print(cur)\n",
    "            for v in self.graph[cur]:\n",
    "                if(visited[v] == False):\n",
    "                    q.append(v)\n",
    "    def isShortestPath(self, s, t):\n",
    "        q = [s]\n",
    "        visited = {node: False for node in self.graph.keys()}\n",
    "        pre = {}\n",
    "        dist = {s: 0}\n",
    "        while q:\n",
    "            cur = q.pop(0)\n",
    "            visited[cur] = True\n",
    "            for v in self.graph[cur]:\n",
    "                if(visited[v] == False):\n",
    "                    q.append(v)\n",
    "                    pre[v] = cur\n",
    "                    dist[v] = dist[cur] + 1\n",
    "                    if(v == t):\n",
    "                        self.printShortestPath(s, t, pre)\n",
    "                        return True\n",
    "        return False\n",
    "    def printShortestPath(self, s, t, pre):\n",
    "        cur = t\n",
    "        path = []\n",
    "        while cur != s:\n",
    "            path.append(cur)\n",
    "            cur = pre[cur]\n",
    "        path.append(s)\n",
    "        print(list(reversed(path)))"
   ]
  },
  {
   "cell_type": "code",
   "execution_count": null,
   "metadata": {
    "collapsed": true
   },
   "outputs": [],
   "source": []
  },
  {
   "cell_type": "code",
   "execution_count": 13,
   "metadata": {
    "collapsed": false
   },
   "outputs": [
    {
     "name": "stdout",
     "output_type": "stream",
     "text": [
      "[0, 1, 2]\n"
     ]
    },
    {
     "data": {
      "text/plain": [
       "True"
      ]
     },
     "execution_count": 13,
     "metadata": {},
     "output_type": "execute_result"
    }
   ],
   "source": [
    "g = Graph()\n",
    "g.addEdge(0, 1)\n",
    "g.addEdge(1, 2)\n",
    "g.addEdge(1, 3)\n",
    "g.addEdge(3, 4)\n",
    "g.addEdge(0, 4)\n",
    "g.isShortestPath(0, 2)"
   ]
  },
  {
   "cell_type": "code",
   "execution_count": null,
   "metadata": {
    "collapsed": true
   },
   "outputs": [],
   "source": []
  }
 ],
 "metadata": {
  "kernelspec": {
   "display_name": "Python 2",
   "language": "python",
   "name": "python2"
  },
  "language_info": {
   "codemirror_mode": {
    "name": "ipython",
    "version": 2
   },
   "file_extension": ".py",
   "mimetype": "text/x-python",
   "name": "python",
   "nbconvert_exporter": "python",
   "pygments_lexer": "ipython2",
   "version": "2.7.13"
  }
 },
 "nbformat": 4,
 "nbformat_minor": 2
}
