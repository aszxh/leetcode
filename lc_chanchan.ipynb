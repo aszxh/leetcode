{
 "cells": [
  {
   "cell_type": "code",
   "execution_count": null,
   "metadata": {
    "collapsed": true
   },
   "outputs": [],
   "source": [
    "def insertBST(root, key):\n",
    "    if root == null:\n",
    "        return Node(key)\n",
    "    if key == root.val:\n",
    "        return\n",
    "    elif key > root.val:\n",
    "        root.right = insertBST(root.right, key)\n",
    "    elif key < root.val:\n",
    "        root.left = insertBST(root.left, key)"
   ]
  },
  {
   "cell_type": "code",
   "execution_count": null,
   "metadata": {
    "collapsed": true
   },
   "outputs": [],
   "source": [
    "root = root.left\n",
    "# @return Node\n",
    "def find(root):\n",
    "    if root.right == null:\n",
    "        return root\n",
    "    else:\n",
    "        root=root.right"
   ]
  },
  {
   "cell_type": "code",
   "execution_count": null,
   "metadata": {
    "collapsed": true
   },
   "outputs": [],
   "source": [
    "# Recursive\n",
    "def find(root):\n",
    "    if root.right == null:\n",
    "        return root\n",
    "    return find(root.right)"
   ]
  },
  {
   "cell_type": "code",
   "execution_count": null,
   "metadata": {
    "collapsed": true
   },
   "outputs": [],
   "source": [
    "# Iterative\n",
    "def find(root):\n",
    "    if root == null:\n",
    "        return root\n",
    "    while(root.right != null):\n",
    "        root = root.right\n",
    "    return root"
   ]
  },
  {
   "cell_type": "code",
   "execution_count": null,
   "metadata": {
    "collapsed": true
   },
   "outputs": [],
   "source": [
    "root.val\n",
    "root.left\n",
    "root.right"
   ]
  },
  {
   "cell_type": "code",
   "execution_count": null,
   "metadata": {
    "collapsed": true
   },
   "outputs": [],
   "source": [
    "class Node:\n",
    "    def __init__(self, v):\n",
    "        self.val = v\n",
    "        self.left = self.right = null"
   ]
  },
  {
   "cell_type": "code",
   "execution_count": null,
   "metadata": {
    "collapsed": true
   },
   "outputs": [],
   "source": [
    "root-->  5\n",
    "    3        8\n",
    " 1     4.   7.  9\n",
    "           (6) <-- key"
   ]
  },
  {
   "cell_type": "code",
   "execution_count": null,
   "metadata": {
    "collapsed": true
   },
   "outputs": [],
   "source": [
    "a = {\"potato\": \"potato\", \"tatato\": \"tatato\"}\n",
    "b = set([1, 2, 3])\n",
    "\n",
    "Hashtable\n",
    "    -Hashset\n",
    "    -Hashmap\n",
    "    "
   ]
  },
  {
   "cell_type": "code",
   "execution_count": 1,
   "metadata": {
    "collapsed": false
   },
   "outputs": [
    {
     "name": "stdout",
     "output_type": "stream",
     "text": [
      "1\n",
      "2\n",
      "3\n",
      "4\n",
      "5\n"
     ]
    }
   ],
   "source": [
    "a = set([1, 2, 3, 4, 5])\n",
    "for i in a:\n",
    "    print(i)"
   ]
  },
  {
   "cell_type": "code",
   "execution_count": null,
   "metadata": {
    "collapsed": true
   },
   "outputs": [],
   "source": [
    "ans = collections.defaultdict(list)\n",
    "for s in strs:\n",
    "    key = tuple(sorted(s))\n",
    "    ans[key].append(s)\n",
    "return ans.values()"
   ]
  },
  {
   "cell_type": "code",
   "execution_count": 11,
   "metadata": {
    "collapsed": false
   },
   "outputs": [
    {
     "data": {
      "text/plain": [
       "'1#2#3#4#5#6'"
      ]
     },
     "execution_count": 11,
     "metadata": {},
     "output_type": "execute_result"
    }
   ],
   "source": [
    "count = [1, 2, 3, 4, 5, 6]\n",
    "count = [str(i) for i in count]\n",
    "count\n",
    "\"#\".join(count)"
   ]
  },
  {
   "cell_type": "code",
   "execution_count": 23,
   "metadata": {
    "collapsed": false
   },
   "outputs": [
    {
     "data": {
      "text/plain": [
       "('a', 'e', 't')"
      ]
     },
     "execution_count": 23,
     "metadata": {},
     "output_type": "execute_result"
    }
   ],
   "source": [
    "s = \"tea\"\n",
    "tuple(sorted(s))"
   ]
  },
  {
   "cell_type": "code",
   "execution_count": null,
   "metadata": {
    "collapsed": true
   },
   "outputs": [],
   "source": [
    "for i in range(len(nums)):\n",
    "    for j in range(0, i):\n",
    "        if nums[i] + nums[j] == target:\n",
    "            return [i, j]\n",
    "        "
   ]
  },
  {
   "cell_type": "code",
   "execution_count": null,
   "metadata": {
    "collapsed": true
   },
   "outputs": [],
   "source": [
    "num_hash = {}\n",
    "ans = []\n",
    "for i, num in enumerate(nums):\n",
    "    if target - num in num_hash:\n",
    "        ans.append([num_hash[target - num], i])\n",
    "    num_hash[num] = i\n",
    "return ans"
   ]
  },
  {
   "cell_type": "code",
   "execution_count": null,
   "metadata": {
    "collapsed": true
   },
   "outputs": [],
   "source": [
    "class Solution:\n",
    "    def groupAnagrams(self, strs):\n",
    "        \"\"\"\n",
    "        :type strs: List[str]\n",
    "        :rtype: List[List[str]]\n",
    "        \"\"\"\n",
    "        ans = collections.defaultdict(list)\n",
    "        for s in strs:\n",
    "            count = [0]*26\n",
    "            for c in s:\n",
    "                count[ord(c)-ord('a')]+=1\n",
    "            ans[tuple(count)].append(s)\n",
    "        return list(ans.values())"
   ]
  },
  {
   "cell_type": "code",
   "execution_count": 31,
   "metadata": {
    "collapsed": false
   },
   "outputs": [
    {
     "data": {
      "text/plain": [
       "itertools.chain"
      ]
     },
     "execution_count": 31,
     "metadata": {},
     "output_type": "execute_result"
    }
   ],
   "source": [
    "import collections, itertools\n",
    "collections.Counter(nums).items()\n",
    "itertools.chain"
   ]
  },
  {
   "cell_type": "code",
   "execution_count": null,
   "metadata": {
    "collapsed": true
   },
   "outputs": [],
   "source": [
    "n, bucket = len(nums), [[] for _ in nums]\n",
    "for num, freq in collections.Counter(nums).items():\n",
    "    bucket[n - freq].append(num)\n",
    "return list(itertools.chain(*bucket))[:k]"
   ]
  },
  {
   "cell_type": "code",
   "execution_count": null,
   "metadata": {
    "collapsed": true
   },
   "outputs": [],
   "source": [
    "vector<int> inorderTraversal(TreeNode* root) {\n",
    "        vector<int> ans;\n",
    "        helper(root, ans);\n",
    "        return ans;\n",
    "    }\n",
    "    \n",
    "    void helper(TreeNode* root, vector<int>& ans) {\n",
    "        if(root == NULL) {\n",
    "            return;\n",
    "        }\n",
    "        ans.push_back(root->val);\n",
    "        helper(root->left, ans);\n",
    "        helper(root->right, ans);\n",
    "    }"
   ]
  },
  {
   "cell_type": "code",
   "execution_count": null,
   "metadata": {
    "collapsed": true
   },
   "outputs": [],
   "source": [
    "#Iterative\n",
    "vector<int> inorderTraversal(TreeNode* root) {\n",
    "    vector<int> res;\n",
    "    stack<TreeNode*> s;\n",
    "    TreeNode *node = root;\n",
    "    while(!st.empty() || node) {\n",
    "        while(node) {\n",
    "            st.push(node);\n",
    "            node = node->left;\n",
    "        }\n",
    "        node = st.top();\n",
    "        st.pop();\n",
    "        res.push_back(node->val);\n",
    "        node = node->right;\n",
    "    } \n",
    "    return res;\n",
    "}"
   ]
  },
  {
   "cell_type": "code",
   "execution_count": null,
   "metadata": {
    "collapsed": true
   },
   "outputs": [],
   "source": [
    "class Solution:\n",
    "    def inorderTraversal(self, root):\n",
    "        stack = []\n",
    "        in_order = []\n",
    "        stack.append(root)\n",
    "\n",
    "        while stack:\n",
    "            x = stack.pop()\n",
    "            if isinstance(x, int):\n",
    "                in_order.append(x)\n",
    "            elif x:\n",
    "                stack.append(x.right)\n",
    "                stack.append(x.val)\n",
    "                stack.append(x.left)\n",
    "\n",
    "        return in_order"
   ]
  },
  {
   "cell_type": "code",
   "execution_count": null,
   "metadata": {
    "collapsed": true
   },
   "outputs": [],
   "source": [
    "stack = [(p, q)]\n",
    "while stack:\n",
    "    node1, node2 = stack.pop()\n",
    "    if not node1 or not node2:\n",
    "        \n",
    "    \n",
    "    \n",
    "    \n",
    "    \n",
    "    \n",
    "    if node1 and node2 and node1.val == node2.val:\n",
    "        stack.append((node1.left, node2.left))\n",
    "        stack.append((node1.right, node2.right))\n",
    "    else:\n",
    "        1 node1 node2 != None node1.val != node2.val:\n",
    "        2 1 None\n",
    "        3 2 None\n",
    "        if not node1 == node2:\n",
    "            return False\n",
    "return True"
   ]
  },
  {
   "cell_type": "code",
   "execution_count": 38,
   "metadata": {
    "collapsed": false
   },
   "outputs": [
    {
     "data": {
      "text/plain": [
       "[3]"
      ]
     },
     "execution_count": 38,
     "metadata": {},
     "output_type": "execute_result"
    }
   ],
   "source": [
    "def subarraySum(self, nums, k):\n",
    "    sums = {0:1} # prefix sum array\n",
    "    res = s = 0\n",
    "    for n in nums:\n",
    "        s += n # increment current sum\n",
    "        res += sums.get(s - k, 0) # check if there is a prefix subarray we can take out to reach k\n",
    "        sums[s] = sums.get(s, 0) + 1 # add current sum to sum count\n",
    "    return res"
   ]
  },
  {
   "cell_type": "code",
   "execution_count": null,
   "metadata": {
    "collapsed": true
   },
   "outputs": [],
   "source": [
    "def dfs(node, l=[]):\n",
    "            if node.left: dfs(node.left, l)\n",
    "            l.append(node.val)\n",
    "            if node.right: dfs(node.right, l)\n",
    "            return l\n",
    "        l = dfs(root)"
   ]
  },
  {
   "cell_type": "code",
   "execution_count": 43,
   "metadata": {
    "collapsed": false
   },
   "outputs": [
    {
     "data": {
      "text/plain": [
       "[(1, 2), (2, 3), (3, 4), (4, 5), (5, 6)]"
      ]
     },
     "execution_count": 43,
     "metadata": {},
     "output_type": "execute_result"
    }
   ],
   "source": [
    "l = [1, 2, 3, 4, 5, 6]\n",
    "#     [2, 3, 4, 5, 6]\n",
    "[(a, b) for a,b in zip(l[:-1], l[1:])]"
   ]
  },
  {
   "cell_type": "code",
   "execution_count": null,
   "metadata": {
    "collapsed": true
   },
   "outputs": [],
   "source": [
    "def getMinimumDifference(self, root):\n",
    "    \"\"\"\n",
    "    :type root: TreeNode\n",
    "    :rtype: int\n",
    "    \"\"\"\n",
    "    res = []\n",
    "    self.helper(root,res)\n",
    "    ans = float('inf')\n",
    "    for i in range(1,len(res)):\n",
    "        ans = min(abs(res[i]-res[i-1]),ans)\n",
    "    return ans\n",
    "\n",
    "def helper(self, root ,res):\n",
    "    if root:\n",
    "        self.helper(root.left, res)\n",
    "        res.append(root.val)\n",
    "        self.helper(root.right, res)"
   ]
  },
  {
   "cell_type": "code",
   "execution_count": null,
   "metadata": {
    "collapsed": true
   },
   "outputs": [],
   "source": [
    "def getMinimumDifference(self, root):\n",
    "    l = []\n",
    "    def dfs(node, l):\n",
    "        if node.left: dfs(node.left, l)\n",
    "        l.append(node.val)\n",
    "        if node.right: dfs(node.right, l)\n",
    "        return l\n",
    "    dfs(root, l)\n",
    "    return min([abs(a-b) for a,b in zip(l, l[1:])])"
   ]
  },
  {
   "cell_type": "code",
   "execution_count": null,
   "metadata": {
    "collapsed": true
   },
   "outputs": [],
   "source": [
    "def getMinimumDifference(self, root):\n",
    "    self.ans = 1e9\n",
    "    self.prev = None\n",
    "        \n",
    "    def search(node):\n",
    "        if node.left: search(node.left)\n",
    "        if self.prev is not None:\n",
    "            self.ans = min(self.ans, node.val - self.prev)\n",
    "        self.prev = node.val\n",
    "        if node.right: search(node.right)\n",
    "    \n",
    "    search(root)\n",
    "    return self.ans"
   ]
  },
  {
   "cell_type": "code",
   "execution_count": null,
   "metadata": {
    "collapsed": true
   },
   "outputs": [],
   "source": [
    "ans = float('inf')\n",
    "for i in range(len(l) - 1):\n",
    "     ans = min(ans, abs(l[i] - l[i+1]))"
   ]
  },
  {
   "cell_type": "code",
   "execution_count": 52,
   "metadata": {
    "collapsed": false
   },
   "outputs": [
    {
     "data": {
      "text/plain": [
       "True"
      ]
     },
     "execution_count": 52,
     "metadata": {},
     "output_type": "execute_result"
    }
   ],
   "source": [
    "                 BST      unsorted array    sorted array        PQ              Hash Table        \n",
    "Find smallest:  log(n)       o(n)             o(1)             O(1)                 o(n)\n",
    "Add:            log(n)       O(1)             o(n)             O(log(n))            o(1)"
   ]
  },
  {
   "cell_type": "code",
   "execution_count": null,
   "metadata": {
    "collapsed": true
   },
   "outputs": [],
   "source": [
    "[2,3,51,55,6,3,5,3,4]\n",
    "\n",
    "K = 3\n",
    "[2, 3, 6]\n",
    "O(K)   nlog(K)"
   ]
  },
  {
   "cell_type": "code",
   "execution_count": 77,
   "metadata": {
    "collapsed": true
   },
   "outputs": [],
   "source": [
    "keys = [1, 2,3,4,5,6, 0]\n",
    "def swim(k, keys):\n",
    "    if k == 0:\n",
    "        return\n",
    "    parent = (k - 1) / 2\n",
    "    if keys[parent] > keys[k]:\n",
    "        temp = keys[k]\n",
    "        keys[k] = keys[parent]\n",
    "        keys[parent] = temp\n",
    "        swim(parent, keys)\n"
   ]
  },
  {
   "cell_type": "code",
   "execution_count": 78,
   "metadata": {
    "collapsed": false
   },
   "outputs": [],
   "source": [
    "class Solution(object):\n",
    "    def pathSum(self, root, sum):\n",
    "        \"\"\"\n",
    "        :type root: TreeNode\n",
    "        :type sum: int\n",
    "        :rtype: List[List[int]]\n",
    "        \"\"\"\n",
    "        ans = []\n",
    "        self.helper(root, sum, [], ans)\n",
    "        return ans\n",
    "        \n",
    "    def helper(self, root, sum, path, ans):\n",
    "        if not root:\n",
    "            return\n",
    "        if not root.left and not root.right and root.val == sum:\n",
    "            ans.append(path + [root.val])\n",
    "        sum -= root.val\n",
    "        self.helper(root.left, sum, path + [root.val], ans)\n",
    "        self.helper(root.right, sum, path + [root.val], ans)"
   ]
  },
  {
   "cell_type": "code",
   "execution_count": 27,
   "metadata": {
    "collapsed": false
   },
   "outputs": [
    {
     "data": {
      "text/plain": [
       "1"
      ]
     },
     "execution_count": 27,
     "metadata": {},
     "output_type": "execute_result"
    }
   ],
   "source": [
    "import heapq\n",
    "pq = []\n",
    "heapq.heappush(pq, 1)\n",
    "a = heapq.heappop(pq)"
   ]
  },
  {
   "cell_type": "code",
   "execution_count": null,
   "metadata": {
    "collapsed": true
   },
   "outputs": [],
   "source": [
    "pq = []\n",
    "for num in nums:\n",
    "    if len(pq) < k:\n",
    "        heapq.heappush(pq, num)\n",
    "    elif pq[0] < num:\n",
    "        heapq.heappushpop(pq, num)\n",
    "return pq[0]"
   ]
  },
  {
   "cell_type": "code",
   "execution_count": null,
   "metadata": {
    "collapsed": true
   },
   "outputs": [],
   "source": [
    "# O(nlgn) time\n",
    "def findKthLargest1(self, nums, k):\n",
    "    return sorted(nums, reverse=True)[k-1]\n",
    "    \n",
    "# O(nk) time, bubble sort idea, TLE\n",
    "def findKthLargest2(self, nums, k):\n",
    "    for i in xrange(k):\n",
    "        for j in xrange(len(nums)-i-1):\n",
    "            if nums[j] > nums[j+1]:\n",
    "                # exchange elements, time consuming\n",
    "                nums[j], nums[j+1] = nums[j+1], nums[j]\n",
    "    return nums[len(nums)-k]\n",
    "    \n",
    "# O(nk) time, selection sort idea\n",
    "def findKthLargest3(self, nums, k):\n",
    "    for i in xrange(len(nums), len(nums)-k, -1):\n",
    "        tmp = 0\n",
    "        for j in xrange(i):\n",
    "            if nums[j] > nums[tmp]:\n",
    "                tmp = j\n",
    "        nums[tmp], nums[i-1] = nums[i-1], nums[tmp]\n",
    "    return nums[len(nums)-k]\n",
    "    \n",
    "# O(k+(n-k)lgk) time, min-heap\n",
    "def findKthLargest4(self, nums, k):\n",
    "    heap = []\n",
    "    for num in nums:\n",
    "        heapq.heappush(heap, num)\n",
    "    for _ in xrange(len(nums)-k):\n",
    "        heapq.heappop(heap)\n",
    "    return heapq.heappop(heap)\n",
    "\n",
    "# O(k+(n-k)lgk) time, min-heap        \n",
    "def findKthLargest5(self, nums, k):\n",
    "    return heapq.nlargest(k, nums)[k-1]\n",
    "    \n",
    "# O(n) time, quick selection\n",
    "def findKthLargest(self, nums, k):\n",
    "    # convert the kth largest to smallest\n",
    "    return self.findKthSmallest(nums, len(nums)+1-k)\n",
    "    \n",
    "def findKthSmallest(self, nums, k):\n",
    "    if nums:\n",
    "        pos = self.partition(nums, 0, len(nums)-1)\n",
    "        if k > pos+1:\n",
    "            return self.findKthSmallest(nums[pos+1:], k-pos-1)\n",
    "        elif k < pos+1:\n",
    "            return self.findKthSmallest(nums[:pos], k)\n",
    "        else:\n",
    "            return nums[pos]\n",
    " \n",
    "# choose the right-most element as pivot   \n",
    "def partition(self, nums, l, r):\n",
    "    low = l\n",
    "    while l < r:\n",
    "        if nums[l] < nums[r]:\n",
    "     # O(nlgn) time\n",
    "def findKthLargest1(self, nums, k):\n",
    "    return sorted(nums, reverse=True)[k-1]\n",
    "    \n",
    "# O(nk) time, bubble sort idea, TLE\n",
    "def findKthLargest2(self, nums, k):\n",
    "    for i in xrange(k):\n",
    "        for j in xrange(len(nums)-i-1):\n",
    "            if nums[j] > nums[j+1]:\n",
    "                # exchange elements, time consuming\n",
    "                nums[j], nums[j+1] = nums[j+1], nums[j]\n",
    "    return nums[len(nums)-k]\n",
    "    \n",
    "# O(nk) time, selection sort idea\n",
    "def findKthLargest3(self, nums, k):\n",
    "    for i in xrange(len(nums), len(nums)-k, -1):\n",
    "        tmp = 0\n",
    "        for j in xrange(i):\n",
    "            if nums[j] > nums[tmp]:\n",
    "                tmp = j\n",
    "        nums[tmp], nums[i-1] = nums[i-1], nums[tmp]\n",
    "    return nums[len(nums)-k]\n",
    "    \n",
    "# O(k+(n-k)lgk) time, min-heap\n",
    "def findKthLargest4(self, nums, k):\n",
    "    heap = []\n",
    "    for num in nums:\n",
    "        heapq.heappush(heap, num)\n",
    "    for _ in xrange(len(nums)-k):\n",
    "        heapq.heappop(heap)\n",
    "    return heapq.heappop(heap)\n",
    "\n",
    "# O(k+(n-k)lgk) time, min-heap        \n",
    "def findKthLargest5(self, nums, k):\n",
    "    return heapq.nlargest(k, nums)[k-1]\n",
    "    \n",
    "# O(n) time, quick selection\n",
    "def findKthLargest(self, nums, k):\n",
    "    # convert the kth largest to smallest\n",
    "    return self.findKthSmallest(nums, len(nums)+1-k)\n",
    "    \n",
    "def findKthSmallest(self, nums, k):\n",
    "    if nums:\n",
    "        pos = self.partition(nums, 0, len(nums)-1)\n",
    "        if k > pos+1:\n",
    "            return self.findKthSmallest(nums[pos+1:], k-pos-1)\n",
    "        elif k < pos+1:\n",
    "            return self.findKthSmallest(nums[:pos], k)\n",
    "        else:\n",
    "            return nums[pos]\n",
    " \n",
    "# choose the right-most element as pivot   \n",
    "def partition(self, nums, l, r):\n",
    "    low = l\n",
    "    while l < r:\n",
    "        if nums[l] < nums[r]:\n",
    "            nums[l], nums[low] = nums[low], nums[l]\n",
    "            low += 1\n",
    "        l += 1\n",
    "    nums[low], nums[r] = nums[r], nums[low]\n",
    "    return low\n",
    "       nums[l], nums[low] = nums[low], nums[l]\n",
    "            low += 1\n",
    "        l += 1\n",
    "    nums[low], nums[r] = nums[r], nums[low]\n",
    "    return low\n"
   ]
  },
  {
   "cell_type": "code",
   "execution_count": null,
   "metadata": {
    "collapsed": true
   },
   "outputs": [],
   "source": [
    "n * log(n)\n",
    "n"
   ]
  },
  {
   "cell_type": "code",
   "execution_count": null,
   "metadata": {
    "collapsed": true
   },
   "outputs": [],
   "source": [
    "class Solution(object):\n",
    "    def topKFrequent(self, nums, k):\n",
    "        \"\"\"\n",
    "        :type nums: List[int]\n",
    "        :type k: int\n",
    "        :rtype: List[int]\n",
    "        \"\"\"\n",
    "        n, bucket = len(nums), [[]] * len(nums)\n",
    "        for num, freq in collections.Counter(nums).items():\n",
    "            bucket[n - freq].append(num)\n",
    "        return list(itertools.chain(*bucket))[:k]"
   ]
  },
  {
   "cell_type": "code",
   "execution_count": 7,
   "metadata": {
    "collapsed": false
   },
   "outputs": [
    {
     "ename": "SyntaxError",
     "evalue": "invalid syntax (<ipython-input-7-31449a4b5273>, line 1)",
     "output_type": "error",
     "traceback": [
      "\u001b[0;36m  File \u001b[0;32m\"<ipython-input-7-31449a4b5273>\"\u001b[0;36m, line \u001b[0;32m1\u001b[0m\n\u001b[0;31m    [Freq]: [elements]\u001b[0m\n\u001b[0m          ^\u001b[0m\n\u001b[0;31mSyntaxError\u001b[0m\u001b[0;31m:\u001b[0m invalid syntax\n"
     ]
    }
   ],
   "source": [
    "[Freq]: [elements]\n",
    "    [[], [], [], [], []]\n",
    "    [[1,2,3], [4,5], [], [], []]\n",
    "[5]: []\n",
    "[4]: []\n",
    "[3]: [6]\n",
    "[2]: [4,5]\n",
    "[1]: [1,2,3]\n"
   ]
  },
  {
   "cell_type": "code",
   "execution_count": 33,
   "metadata": {
    "collapsed": false
   },
   "outputs": [
    {
     "data": {
      "text/plain": [
       "[(1, 3), (2, 2), (3, 1)]"
      ]
     },
     "execution_count": 33,
     "metadata": {},
     "output_type": "execute_result"
    }
   ],
   "source": [
    "import collections\n",
    "nums = [1,1,1,2,2,3]\n",
    "collections.Counter(nums).items()"
   ]
  },
  {
   "cell_type": "code",
   "execution_count": 34,
   "metadata": {
    "collapsed": false
   },
   "outputs": [
    {
     "ename": "NameError",
     "evalue": "name 'key' is not defined",
     "output_type": "error",
     "traceback": [
      "\u001b[0;31m---------------------------------------------------------------------------\u001b[0m",
      "\u001b[0;31mNameError\u001b[0m                                 Traceback (most recent call last)",
      "\u001b[0;32m<ipython-input-34-fdc4dc75f07d>\u001b[0m in \u001b[0;36m<module>\u001b[0;34m()\u001b[0m\n\u001b[1;32m      1\u001b[0m \u001b[0;34m{\u001b[0m\u001b[0;34m\"a\"\u001b[0m\u001b[0;34m:\u001b[0m\u001b[0;36m1\u001b[0m\u001b[0;34m,\u001b[0m \u001b[0;34m\"b\"\u001b[0m\u001b[0;34m:\u001b[0m\u001b[0;36m2\u001b[0m\u001b[0;34m,\u001b[0m \u001b[0;34m\"c\"\u001b[0m\u001b[0;34m:\u001b[0m\u001b[0;36m3\u001b[0m\u001b[0;34m}\u001b[0m\u001b[0;34m.\u001b[0m\u001b[0mitems\u001b[0m\u001b[0;34m(\u001b[0m\u001b[0;34m)\u001b[0m\u001b[0;34m\u001b[0m\u001b[0m\n\u001b[0;32m----> 2\u001b[0;31m \u001b[0;34m[\u001b[0m\u001b[0;34m(\u001b[0m\u001b[0mkey\u001b[0m\u001b[0;34m,\u001b[0m\u001b[0mvalue\u001b[0m\u001b[0;34m)\u001b[0m\u001b[0;34m,\u001b[0m \u001b[0;34m(\u001b[0m\u001b[0mkey\u001b[0m\u001b[0;34m,\u001b[0m\u001b[0mvalue\u001b[0m\u001b[0;34m)\u001b[0m\u001b[0;34m,\u001b[0m \u001b[0;34m(\u001b[0m\u001b[0mkey\u001b[0m\u001b[0;34m,\u001b[0m \u001b[0mvalue\u001b[0m\u001b[0;34m)\u001b[0m\u001b[0;34m]\u001b[0m\u001b[0;34m\u001b[0m\u001b[0m\n\u001b[0m",
      "\u001b[0;31mNameError\u001b[0m: name 'key' is not defined"
     ]
    }
   ],
   "source": [
    "{\"a\":1, \"b\":2, \"c\":3}.items()\n",
    "[(key,value), (key,value), (key, value)]"
   ]
  },
  {
   "cell_type": "code",
   "execution_count": 17,
   "metadata": {
    "collapsed": true
   },
   "outputs": [],
   "source": [
    "bucket = [[1,2,3], [4,5], [], [], []]"
   ]
  },
  {
   "cell_type": "code",
   "execution_count": 21,
   "metadata": {
    "collapsed": true
   },
   "outputs": [],
   "source": [
    "def test(a, b, *args):\n",
    "    for arg in args:\n",
    "        print arg"
   ]
  },
  {
   "cell_type": "code",
   "execution_count": 25,
   "metadata": {
    "collapsed": false
   },
   "outputs": [
    {
     "data": {
      "text/plain": [
       "<itertools.chain at 0x1067bff10>"
      ]
     },
     "execution_count": 25,
     "metadata": {},
     "output_type": "execute_result"
    }
   ],
   "source": [
    "itertools.chain([1,2], [3,4,5], [6,7])"
   ]
  },
  {
   "cell_type": "code",
   "execution_count": 20,
   "metadata": {
    "collapsed": false
   },
   "outputs": [
    {
     "data": {
      "text/plain": [
       "[1, 2, 3, 4, 5]"
      ]
     },
     "execution_count": 20,
     "metadata": {},
     "output_type": "execute_result"
    }
   ],
   "source": [
    "import itertools\n",
    "list(itertools.chain(*bucket))"
   ]
  },
  {
   "cell_type": "code",
   "execution_count": null,
   "metadata": {
    "collapsed": true
   },
   "outputs": [],
   "source": [
    "import heapq\n",
    "\n",
    "class Solution(object):\n",
    "    def topKFrequent(self, nums, k):\n",
    "        \"\"\"\n",
    "        :type nums: List[int]\n",
    "        :type k: int\n",
    "        :rtype: List[int]\n",
    "        \"\"\"\n",
    "        freq = {}\n",
    "        freq_list=[]  \n",
    "        for num in nums:\n",
    "            if num in freq:\n",
    "                freq[num] = freq[num] + 1\n",
    "            else:\n",
    "                freq[num] = 1\n",
    "                \n",
    "        for key in freq.keys():\n",
    "            freq_list.append((-freq[key], key))\n",
    "        heapq.heapify(freq_list)\n",
    "        topk = []\n",
    "        for i in range(0,k):\n",
    "            topk.append(heapq.heappop(freq_list)[1])\n",
    "        return topk"
   ]
  },
  {
   "cell_type": "code",
   "execution_count": null,
   "metadata": {
    "collapsed": true
   },
   "outputs": [],
   "source": [
    "import heapq\n",
    "\n",
    "class Solution(object):\n",
    "    def topKFrequent(self, nums, k):\n",
    "        \"\"\"\n",
    "        :type nums: List[int]\n",
    "        :type k: int\n",
    "        :rtype: List[int]\n",
    "        \"\"\"\n",
    "        freq = {}\n",
    "        freq_list=[]  \n",
    "        for num in nums:\n",
    "            if num in freq:\n",
    "                freq[num] = freq[num] + 1\n",
    "            else:\n",
    "                freq[num] = 1\n",
    "                \n",
    "        for key in freq.keys():\n",
    "            if len(freq_list) < k:\n",
    "                heapq.heappush(freq_list, (freq[key], key))\n",
    "            elif freq_list[0][0] < freq[key]:\n",
    "                heapq.heappushpop(freq_list, (freq[key], key))\n",
    "        \n",
    "        topk = []\n",
    "        for i in range(0,k):\n",
    "            topk.append(heapq.heappop(freq_list)[1])\n",
    "            #topk.insert(0, heapq.heappop(freq_list)[1])\n",
    "        return topk"
   ]
  },
  {
   "cell_type": "code",
   "execution_count": null,
   "metadata": {
    "collapsed": true
   },
   "outputs": [],
   "source": [
    "class Solution(object):\n",
    "    # @return an integer\n",
    "    def lengthOfLongestSubstring(self, s):\n",
    "        left = maxLength = 0\n",
    "        # maxString = \"\"\n",
    "        usedChar = {} #Stores the index of the last appearance of an char\n",
    "        \n",
    "        for right in range(len(s)):\n",
    "            if s[right] in usedChar and left <= usedChar[s[right]]:\n",
    "                left = usedChar[s[right]] + 1\n",
    "            else:\n",
    "                # if right - left + 1 > maxLength:\n",
    "                #     maxLength = right - left + 1\n",
    "                #     maxString = s[left:right]\n",
    "                maxLength = max(maxLength, right - left + 1)\n",
    "\n",
    "            usedChar[s[right]] = right\n",
    "\n",
    "        return maxLength"
   ]
  },
  {
   "cell_type": "code",
   "execution_count": 11,
   "metadata": {
    "collapsed": false
   },
   "outputs": [],
   "source": [
    "s = \"abcdefg\"\n",
    "import collections\n",
    "count = collections.Counter(s)"
   ]
  },
  {
   "cell_type": "code",
   "execution_count": 18,
   "metadata": {
    "collapsed": false
   },
   "outputs": [
    {
     "name": "stdout",
     "output_type": "stream",
     "text": [
      "a 1\n",
      "c 1\n",
      "b 1\n",
      "e 1\n",
      "d 1\n",
      "g 1\n",
      "f 1\n"
     ]
    }
   ],
   "source": [
    "for key, value in count.items():\n",
    "    print key, value"
   ]
  },
  {
   "cell_type": "code",
   "execution_count": 33,
   "metadata": {
    "collapsed": false
   },
   "outputs": [
    {
     "name": "stdout",
     "output_type": "stream",
     "text": [
      "[[1], [1], [1], [1], [1], [1], [1]]\n"
     ]
    }
   ],
   "source": [
    "ans = [[]] * 7\n",
    "ans[0].append(1)\n",
    "print(ans)"
   ]
  },
  {
   "cell_type": "code",
   "execution_count": null,
   "metadata": {
    "collapsed": true
   },
   "outputs": [],
   "source": [
    "#         {\"a\":1, \"b\":2, \"c\":3}\n",
    "        \n",
    "#         Freq  Char\n",
    "#         1: [\"a\"]\n",
    "#         2: [\"b\", \"d\"]\n",
    "#         3: [\"c\"]\n",
    "        \n",
    "#         n+n\n",
    "#         cccbbdda\n",
    "#          [[], [], [a], [], [], []] [[\"a\"], [\"A\"], \"A\", \"b\", \"B]\n",
    "        count = collections.Counter(s)\n",
    "        buckets = [[] for _ in s]\n",
    "        buckets = [[] * len(s)]\n",
    "        for k, v in count.items():\n",
    "            # k: char,  v: freq\n",
    "            buckets[v-1].append(k)\n",
    "        ans = []\n",
    "        for i in range(len(s) - 1, -1, -1):\n",
    "            for c in buckets[i]:\n",
    "                ans.append(c * (i+1))\n",
    "        return \"\".join(ans)"
   ]
  }
 ],
 "metadata": {
  "kernelspec": {
   "display_name": "Python 2",
   "language": "python",
   "name": "python2"
  }
 },
 "nbformat": 4,
 "nbformat_minor": 2
}
