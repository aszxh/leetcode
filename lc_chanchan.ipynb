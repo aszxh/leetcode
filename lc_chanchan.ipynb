{
 "cells": [
  {
   "cell_type": "code",
   "execution_count": null,
   "metadata": {
    "collapsed": true
   },
   "outputs": [],
   "source": [
    "def insertBST(root, key):\n",
    "    if root == null:\n",
    "        return Node(key)\n",
    "    if key == root.val:\n",
    "        return\n",
    "    elif key > root.val:\n",
    "        root.right = insertBST(root.right, key)\n",
    "    elif key < root.val:\n",
    "        root.left = insertBST(root.left, key)"
   ]
  },
  {
   "cell_type": "code",
   "execution_count": null,
   "metadata": {
    "collapsed": true
   },
   "outputs": [],
   "source": [
    "root = root.left\n",
    "# @return Node\n",
    "def find(root):\n",
    "    if root.right == null:\n",
    "        return root\n",
    "    else:\n",
    "        root=root.right"
   ]
  },
  {
   "cell_type": "code",
   "execution_count": null,
   "metadata": {
    "collapsed": true
   },
   "outputs": [],
   "source": [
    "# Recursive\n",
    "def find(root):\n",
    "    if root.right == null:\n",
    "        return root\n",
    "    return find(root.right)"
   ]
  },
  {
   "cell_type": "code",
   "execution_count": null,
   "metadata": {
    "collapsed": true
   },
   "outputs": [],
   "source": [
    "# Iterative\n",
    "def find(root):\n",
    "    if root == null:\n",
    "        return root\n",
    "    while(root.right != null):\n",
    "        root = root.right\n",
    "    return root"
   ]
  },
  {
   "cell_type": "code",
   "execution_count": null,
   "metadata": {
    "collapsed": true
   },
   "outputs": [],
   "source": [
    "root.val\n",
    "root.left\n",
    "root.right"
   ]
  },
  {
   "cell_type": "code",
   "execution_count": null,
   "metadata": {
    "collapsed": true
   },
   "outputs": [],
   "source": [
    "class Node:\n",
    "    def __init__(self, v):\n",
    "        self.val = v\n",
    "        self.left = self.right = null"
   ]
  },
  {
   "cell_type": "code",
   "execution_count": null,
   "metadata": {
    "collapsed": true
   },
   "outputs": [],
   "source": [
    "root-->  5\n",
    "    3        8\n",
    " 1     4.   7.  9\n",
    "           (6) <-- key"
   ]
  },
  {
   "cell_type": "code",
   "execution_count": null,
   "metadata": {
    "collapsed": true
   },
   "outputs": [],
   "source": [
    "a = {\"potato\": \"potato\", \"tatato\": \"tatato\"}\n",
    "b = set([1, 2, 3])\n",
    "\n",
    "Hashtable\n",
    "    -Hashset\n",
    "    -Hashmap\n",
    "    "
   ]
  },
  {
   "cell_type": "code",
   "execution_count": 1,
   "metadata": {
    "collapsed": false
   },
   "outputs": [
    {
     "name": "stdout",
     "output_type": "stream",
     "text": [
      "1\n",
      "2\n",
      "3\n",
      "4\n",
      "5\n"
     ]
    }
   ],
   "source": [
    "a = set([1, 2, 3, 4, 5])\n",
    "for i in a:\n",
    "    print(i)"
   ]
  },
  {
   "cell_type": "code",
   "execution_count": null,
   "metadata": {
    "collapsed": true
   },
   "outputs": [],
   "source": [
    "ans = collections.defaultdict(list)\n",
    "for s in strs:\n",
    "    key = tuple(sorted(s))\n",
    "    ans[key].append(s)\n",
    "return ans.values()"
   ]
  },
  {
   "cell_type": "code",
   "execution_count": 11,
   "metadata": {
    "collapsed": false
   },
   "outputs": [
    {
     "data": {
      "text/plain": [
       "'1#2#3#4#5#6'"
      ]
     },
     "execution_count": 11,
     "metadata": {},
     "output_type": "execute_result"
    }
   ],
   "source": [
    "count = [1, 2, 3, 4, 5, 6]\n",
    "count = [str(i) for i in count]\n",
    "count\n",
    "\"#\".join(count)"
   ]
  },
  {
   "cell_type": "code",
   "execution_count": 23,
   "metadata": {
    "collapsed": false
   },
   "outputs": [
    {
     "data": {
      "text/plain": [
       "('a', 'e', 't')"
      ]
     },
     "execution_count": 23,
     "metadata": {},
     "output_type": "execute_result"
    }
   ],
   "source": [
    "s = \"tea\"\n",
    "tuple(sorted(s))"
   ]
  },
  {
   "cell_type": "code",
   "execution_count": null,
   "metadata": {
    "collapsed": true
   },
   "outputs": [],
   "source": [
    "for i in range(len(nums)):\n",
    "    for j in range(0, i):\n",
    "        if nums[i] + nums[j] == target:\n",
    "            return [i, j]\n",
    "        "
   ]
  },
  {
   "cell_type": "code",
   "execution_count": null,
   "metadata": {
    "collapsed": true
   },
   "outputs": [],
   "source": [
    "num_hash = {}\n",
    "ans = []\n",
    "for i, num in enumerate(nums):\n",
    "    if target - num in num_hash:\n",
    "        ans.append([num_hash[target - num], i])\n",
    "    num_hash[num] = i\n",
    "return ans"
   ]
  },
  {
   "cell_type": "code",
   "execution_count": null,
   "metadata": {
    "collapsed": true
   },
   "outputs": [],
   "source": [
    "class Solution:\n",
    "    def groupAnagrams(self, strs):\n",
    "        \"\"\"\n",
    "        :type strs: List[str]\n",
    "        :rtype: List[List[str]]\n",
    "        \"\"\"\n",
    "        ans = collections.defaultdict(list)\n",
    "        for s in strs:\n",
    "            count = [0]*26\n",
    "            for c in s:\n",
    "                count[ord(c)-ord('a')]+=1\n",
    "            ans[tuple(count)].append(s)\n",
    "        return list(ans.values())"
   ]
  },
  {
   "cell_type": "code",
   "execution_count": 31,
   "metadata": {
    "collapsed": false
   },
   "outputs": [
    {
     "data": {
      "text/plain": [
       "itertools.chain"
      ]
     },
     "execution_count": 31,
     "metadata": {},
     "output_type": "execute_result"
    }
   ],
   "source": [
    "import collections, itertools\n",
    "collections.Counter(nums).items()\n",
    "itertools.chain"
   ]
  },
  {
   "cell_type": "code",
   "execution_count": null,
   "metadata": {
    "collapsed": true
   },
   "outputs": [],
   "source": [
    "n, bucket = len(nums), [[] for _ in nums]\n",
    "for num, freq in collections.Counter(nums).items():\n",
    "    bucket[n - freq].append(num)\n",
    "return list(itertools.chain(*bucket))[:k]"
   ]
  },
  {
   "cell_type": "code",
   "execution_count": null,
   "metadata": {
    "collapsed": true
   },
   "outputs": [],
   "source": [
    "vector<int> inorderTraversal(TreeNode* root) {\n",
    "        vector<int> ans;\n",
    "        helper(root, ans);\n",
    "        return ans;\n",
    "    }\n",
    "    \n",
    "    void helper(TreeNode* root, vector<int>& ans) {\n",
    "        if(root == NULL) {\n",
    "            return;\n",
    "        }\n",
    "        ans.push_back(root->val);\n",
    "        helper(root->left, ans);\n",
    "        helper(root->right, ans);\n",
    "    }"
   ]
  },
  {
   "cell_type": "code",
   "execution_count": null,
   "metadata": {
    "collapsed": true
   },
   "outputs": [],
   "source": [
    "#Iterative\n",
    "vector<int> inorderTraversal(TreeNode* root) {\n",
    "    vector<int> res;\n",
    "    stack<TreeNode*> s;\n",
    "    TreeNode *node = root;\n",
    "    while(!st.empty() || node) {\n",
    "        while(node) {\n",
    "            st.push(node);\n",
    "            node = node->left;\n",
    "        }\n",
    "        node = st.top();\n",
    "        st.pop();\n",
    "        res.push_back(node->val);\n",
    "        node = node->right;\n",
    "    } \n",
    "    return res;\n",
    "}"
   ]
  },
  {
   "cell_type": "code",
   "execution_count": null,
   "metadata": {
    "collapsed": true
   },
   "outputs": [],
   "source": [
    "class Solution:\n",
    "    def inorderTraversal(self, root):\n",
    "        stack = []\n",
    "        in_order = []\n",
    "        stack.append(root)\n",
    "\n",
    "        while stack:\n",
    "            x = stack.pop()\n",
    "            if isinstance(x, int):\n",
    "                in_order.append(x)\n",
    "            elif x:\n",
    "                stack.append(x.right)\n",
    "                stack.append(x.val)\n",
    "                stack.append(x.left)\n",
    "\n",
    "        return in_order"
   ]
  },
  {
   "cell_type": "code",
   "execution_count": null,
   "metadata": {
    "collapsed": true
   },
   "outputs": [],
   "source": [
    "stack = [(p, q)]\n",
    "while stack:\n",
    "    node1, node2 = stack.pop()\n",
    "    if not node1 or not node2:\n",
    "        \n",
    "    \n",
    "    \n",
    "    \n",
    "    \n",
    "    \n",
    "    if node1 and node2 and node1.val == node2.val:\n",
    "        stack.append((node1.left, node2.left))\n",
    "        stack.append((node1.right, node2.right))\n",
    "    else:\n",
    "        1 node1 node2 != None node1.val != node2.val:\n",
    "        2 1 None\n",
    "        3 2 None\n",
    "        if not node1 == node2:\n",
    "            return False\n",
    "return True"
   ]
  },
  {
   "cell_type": "code",
   "execution_count": 38,
   "metadata": {
    "collapsed": false
   },
   "outputs": [
    {
     "data": {
      "text/plain": [
       "[3]"
      ]
     },
     "execution_count": 38,
     "metadata": {},
     "output_type": "execute_result"
    }
   ],
   "source": [
    "def subarraySum(self, nums, k):\n",
    "    sums = {0:1} # prefix sum array\n",
    "    res = s = 0\n",
    "    for n in nums:\n",
    "        s += n # increment current sum\n",
    "        res += sums.get(s - k, 0) # check if there is a prefix subarray we can take out to reach k\n",
    "        sums[s] = sums.get(s, 0) + 1 # add current sum to sum count\n",
    "    return res"
   ]
  },
  {
   "cell_type": "code",
   "execution_count": null,
   "metadata": {
    "collapsed": true
   },
   "outputs": [],
   "source": [
    "def dfs(node, l=[]):\n",
    "            if node.left: dfs(node.left, l)\n",
    "            l.append(node.val)\n",
    "            if node.right: dfs(node.right, l)\n",
    "            return l\n",
    "        l = dfs(root)"
   ]
  },
  {
   "cell_type": "code",
   "execution_count": 43,
   "metadata": {
    "collapsed": false
   },
   "outputs": [
    {
     "data": {
      "text/plain": [
       "[(1, 2), (2, 3), (3, 4), (4, 5), (5, 6)]"
      ]
     },
     "execution_count": 43,
     "metadata": {},
     "output_type": "execute_result"
    }
   ],
   "source": [
    "l = [1, 2, 3, 4, 5, 6]\n",
    "#     [2, 3, 4, 5, 6]\n",
    "[(a, b) for a,b in zip(l[:-1], l[1:])]"
   ]
  },
  {
   "cell_type": "code",
   "execution_count": null,
   "metadata": {
    "collapsed": true
   },
   "outputs": [],
   "source": [
    "def getMinimumDifference(self, root):\n",
    "    \"\"\"\n",
    "    :type root: TreeNode\n",
    "    :rtype: int\n",
    "    \"\"\"\n",
    "    res = []\n",
    "    self.helper(root,res)\n",
    "    ans = float('inf')\n",
    "    for i in range(1,len(res)):\n",
    "        ans = min(abs(res[i]-res[i-1]),ans)\n",
    "    return ans\n",
    "\n",
    "def helper(self, root ,res):\n",
    "    if root:\n",
    "        self.helper(root.left, res)\n",
    "        res.append(root.val)\n",
    "        self.helper(root.right, res)"
   ]
  },
  {
   "cell_type": "code",
   "execution_count": null,
   "metadata": {
    "collapsed": true
   },
   "outputs": [],
   "source": [
    "def getMinimumDifference(self, root):\n",
    "    l = []\n",
    "    def dfs(node, l):\n",
    "        if node.left: dfs(node.left, l)\n",
    "        l.append(node.val)\n",
    "        if node.right: dfs(node.right, l)\n",
    "        return l\n",
    "    dfs(root, l)\n",
    "    return min([abs(a-b) for a,b in zip(l, l[1:])])"
   ]
  },
  {
   "cell_type": "code",
   "execution_count": null,
   "metadata": {
    "collapsed": true
   },
   "outputs": [],
   "source": [
    "def getMinimumDifference(self, root):\n",
    "    self.ans = 1e9\n",
    "    self.prev = None\n",
    "        \n",
    "    def search(node):\n",
    "        if node.left: search(node.left)\n",
    "        if self.prev is not None:\n",
    "            self.ans = min(self.ans, node.val - self.prev)\n",
    "        self.prev = node.val\n",
    "        if node.right: search(node.right)\n",
    "    \n",
    "    search(root)\n",
    "    return self.ans"
   ]
  },
  {
   "cell_type": "code",
   "execution_count": null,
   "metadata": {
    "collapsed": true
   },
   "outputs": [],
   "source": [
    "ans = float('inf')\n",
    "for i in range(len(l) - 1):\n",
    "     ans = min(ans, abs(l[i] - l[i+1]))"
   ]
  }
 ],
 "metadata": {
  "kernelspec": {
   "display_name": "Python 2",
   "language": "python",
   "name": "python2"
  },
  "language_info": {
   "codemirror_mode": {
    "name": "ipython",
    "version": 2
   },
   "file_extension": ".py",
   "mimetype": "text/x-python",
   "name": "python",
   "nbconvert_exporter": "python",
   "pygments_lexer": "ipython2",
   "version": "2.7.13"
  }
 },
 "nbformat": 4,
 "nbformat_minor": 2
}
